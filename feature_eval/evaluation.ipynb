{
 "cells": [
  {
   "cell_type": "markdown",
   "metadata": {
    "colab_type": "text",
    "id": "view-in-github"
   },
   "source": [
    "### Setup"
   ]
  },
  {
   "cell_type": "code",
   "execution_count": 2,
   "metadata": {
    "colab": {},
    "colab_type": "code",
    "id": "G7YMxsvEZMrX",
    "pycharm": {
     "is_executing": false
    }
   },
   "outputs": [],
   "source": [
    "import importlib.util\n",
    "import os\n",
    "\n",
    "import matplotlib.pyplot as plt\n",
    "import numpy as np\n",
    "import torch\n",
    "from sklearn import preprocessing\n",
    "from sklearn.decomposition import PCA\n",
    "from sklearn.linear_model import LogisticRegression\n",
    "from sklearn.neighbors import KNeighborsClassifier\n",
    "\n",
    "base_path = 'D:\\\\Projekte\\\\MSE\\\\SimCLR_Usage\\\\'\n",
    "folder_name = base_path + 'runs\\\\Apr01_19-11-34_LAPTOP-T1N7HK2E'\n",
    "output_dimension = 512\n",
    "batch_size = 256\n",
    "device = 'cuda' if torch.cuda.is_available() else 'cpu'\n",
    "model_folder = os.path.join(folder_name, 'model')"
   ]
  },
  {
   "cell_type": "markdown",
   "source": [
    "### Load Images from folder"
   ],
   "metadata": {
    "collapsed": false
   }
  },
  {
   "cell_type": "code",
   "execution_count": 3,
   "metadata": {
    "colab": {},
    "colab_type": "code",
    "id": "GxuiXvAKLjQm",
    "pycharm": {
     "is_executing": false
    }
   },
   "outputs": [],
   "source": [
    "# Source: https://github.com/mttk/STL10/blob/master/stl10_input.py\n",
    "def load_images(set):\n",
    "    X = np.fromfile(base_path + '\\\\data\\\\stl10_binary\\\\' + set + '_X.bin', dtype=np.uint8)\n",
    "    y = np.fromfile(base_path + '\\\\data\\\\stl10_binary\\\\' + set + '_y.bin', dtype=np.uint8)\n",
    "    y = y - 1 #scale from 0-9 instead of 1-10\n",
    "    X = np.reshape(X, (-1, 3, 96, 96))\n",
    "    X = np.transpose(X, (0, 1, 3, 2))\n",
    "\n",
    "    return X, y\n",
    "\n",
    "# restore images\n",
    "X_train, y_train = load_images(\"train\")\n",
    "X_test, y_test = load_images(\"test\")\n",
    "\n"
   ]
  },
  {
   "cell_type": "markdown",
   "source": [
    "### Functions for evaluation"
   ],
   "metadata": {
    "collapsed": false
   }
  },
  {
   "cell_type": "code",
   "execution_count": 4,
   "metadata": {
    "colab": {},
    "colab_type": "code",
    "id": "Yq2N_FpVLjQ8",
    "pycharm": {
     "is_executing": false
    }
   },
   "outputs": [],
   "source": [
    "def exec_logistic_regression(X_train, y_train, X_test, y_test):\n",
    "    logistic_regression = LogisticRegression(random_state=0, max_iter=2000, solver='lbfgs', C=1.0)\n",
    "    logistic_regression.fit(X_train, y_train)\n",
    "    return logistic_regression.score(X_train, y_train), logistic_regression.score(X_test, y_test)\n",
    "\n",
    "def exec_k_nearest_neighbors(X_train, y_train, X_test, y_test):\n",
    "    knn = KNeighborsClassifier(n_neighbors=10)\n",
    "    knn.fit(X_train, y_train)\n",
    "    return knn.score(X_train, y_train), knn.score(X_test, y_test)\n"
   ]
  },
  {
   "cell_type": "markdown",
   "source": [
    "### Test with extracted features from PCA\n",
    "\n",
    "To see how good the self implemented SimCLR works, we compare it with PCA as a feature extractor.\n",
    "\n",
    "> Principle Component Analysis (PCA) is a common feature extraction method in data science. Technically, PCA finds the eigenvectors of a covariance matrix with the highest eigenvalues and then uses those to project the data into a new subspace of equal or less dimensions. Practically, PCA converts a matrix of `n` features into a new dataset of (hopefully) less than `n` features. That is, it reduces the number of features by constructing a new, smaller number variables which capture a signficant portion of the information found in the original features. However, the goal of this tutorial is not to explain the concept of PCA, that is done very well elsewhere, but rather to demonstrate PCA in action.\n",
    "\n",
    "_Source:_ [https://chrisalbon.com/machine_learning/feature_engineering/feature_extraction_with_pca/](https://chrisalbon.com/machine_learning/feature_engineering/feature_extraction_with_pca/)"
   ],
   "metadata": {
    "collapsed": false
   }
  },
  {
   "cell_type": "code",
   "execution_count": 5,
   "outputs": [],
   "source": [
    "# Compute the mean and std to be used for later scaling.\n",
    "standard_scaler = preprocessing.StandardScaler()\n",
    "standard_scaler.fit(X_train.reshape((X_train.shape[0],-1)))\n",
    "\n",
    "pca = PCA(n_components=output_dimension)\n",
    "X_train_pca = pca.fit_transform(standard_scaler.transform(X_train.reshape(X_train.shape[0], -1)))\n",
    "X_test_pca = pca.transform(standard_scaler.transform(X_test.reshape(X_test.shape[0], -1)))\n",
    "\n",
    "reg_train_score_pca, reg_test_score_pca = exec_logistic_regression(X_train_pca, y_train, X_test_pca, y_test)\n",
    "knn_train_score_pca, knn_test_score_pca = exec_k_nearest_neighbors(X_train_pca, y_train, X_test_pca, y_test)"
   ],
   "metadata": {
    "collapsed": false,
    "pycharm": {
     "name": "#%%\n",
     "is_executing": false
    }
   }
  },
  {
   "cell_type": "markdown",
   "metadata": {
    "colab_type": "text",
    "id": "5nf4rDtWLjRE"
   },
   "source": [
    "### Test with trained model"
   ]
  },
  {
   "cell_type": "markdown",
   "source": [
    "#### Setup"
   ],
   "metadata": {
    "collapsed": false
   }
  },
  {
   "cell_type": "code",
   "execution_count": 6,
   "metadata": {
    "colab": {},
    "colab_type": "code",
    "id": "fYezlvoNVpeT",
    "pycharm": {
     "is_executing": false
    }
   },
   "outputs": [],
   "source": [
    "spec = importlib.util.spec_from_file_location(\"model\", os.path.join(base_path, 'resnet_model.py'))\n",
    "resnet_module = importlib.util.module_from_spec(spec)\n",
    "spec.loader.exec_module(resnet_module)\n",
    "\n",
    "model = resnet_module.ResNetModel(output_dimension)\n",
    "model.eval()\n",
    "state_dict = torch.load(os.path.join(model_folder, 'res_net.pth'), map_location=torch.device('cpu'))\n",
    "model.load_state_dict(state_dict)\n",
    "model = model.to(device)\n",
    "\n",
    "# def next_batch(X, y):\n",
    "#     for i in range(0, X.shape[0], batch_size):\n",
    "#         X_batch = torch.tensor(X[i: i+batch_size]) / 255.\n",
    "#         y_batch = torch.tensor(y[i: i+batch_size])\n",
    "#         yield X_batch.to(device), y_batch.to(device)\n",
    "        \n",
    "def next_batch(X):\n",
    "    for i in range(0, X.shape[0], batch_size):\n",
    "        X_batch = torch.tensor(X[i: i+batch_size]) / 255.\n",
    "        yield X_batch.to(device)"
   ]
  },
  {
   "cell_type": "markdown",
   "source": [
    "#### Train"
   ],
   "metadata": {
    "collapsed": false
   }
  },
  {
   "cell_type": "code",
   "execution_count": 7,
   "metadata": {
    "colab": {},
    "colab_type": "code",
    "id": "oftbHXcdLjRM",
    "pycharm": {
     "is_executing": false
    }
   },
   "outputs": [],
   "source": [
    "X_train_feature = []\n",
    "X_test_feature = []\n",
    "\n",
    "for x in next_batch(X_train):\n",
    "    features, _ = model(x)\n",
    "    X_train_feature.extend(features.cpu().detach().numpy())\n",
    "    \n",
    "for x in next_batch(X_test):\n",
    "    features, _ = model(x)\n",
    "    X_test_feature.extend(features.cpu().detach().numpy())\n",
    "    \n",
    "X_train_feature = np.array(X_train_feature)\n",
    "X_test_feature = np.array(X_test_feature)\n"
   ]
  },
  {
   "cell_type": "markdown",
   "source": [
    "#### Test\n",
    "\n",
    "###### Procedure for PCA\n",
    "First, the training and test data are standardized. Then the training data is fitted with 'pca.fit_transform' and transformed to 512 features. The test data, on the other hand, is only transformed with `pca.transform`."
   ],
   "metadata": {
    "collapsed": false
   }
  },
  {
   "cell_type": "code",
   "execution_count": 8,
   "metadata": {
    "colab": {},
    "colab_type": "code",
    "id": "91jHpRQyLjRT",
    "pycharm": {
     "is_executing": false
    }
   },
   "outputs": [],
   "source": [
    "standard_scaler = preprocessing.StandardScaler()\n",
    "standard_scaler.fit(X_train_feature)\n",
    "\n",
    "reg_train_score_mod, reg_test_score_mod = exec_logistic_regression(standard_scaler.transform(X_train_feature), y_train, standard_scaler.transform(X_test_feature), y_test)\n",
    "knn_train_score_mod, knn_test_score_mod = exec_k_nearest_neighbors(standard_scaler.transform(X_train_feature), y_train, standard_scaler.transform(X_test_feature), y_test)"
   ]
  },
  {
   "cell_type": "markdown",
   "source": [
    "## Plot result\n",
    "\n",
    "We compare the self implemented SimCLR with PCA as feature extractor. Therefore, we use the training and test images from the STL-10 library.\n",
    "\n",
    "\n",
    "\n"
   ],
   "metadata": {
    "collapsed": false
   }
  },
  {
   "cell_type": "code",
   "execution_count": 16,
   "metadata": {
    "colab": {},
    "colab_type": "code",
    "id": "fXy_YX8_b7gL",
    "pycharm": {
     "is_executing": false,
     "name": "#%%\n"
    }
   },
   "outputs": [
    {
     "data": {
      "text/plain": "<Figure size 1080x720 with 1 Axes>",
      "image/png": "[encoded data removed]"
     },
     "metadata": {
      "needs_background": "light"
     },
     "output_type": "display_data"
    }
   ],
   "source": [
    "labels = ['Logistic regression PCA', 'k-nearest neighbour PCA', 'Logistic regression SimCLR', 'k-nearest neighbour SimCLR']\n",
    "train = [reg_train_score_pca, knn_train_score_pca, reg_train_score_mod, knn_train_score_mod]\n",
    "test = [reg_test_score_pca, knn_test_score_pca, reg_test_score_mod, knn_test_score_mod]\n",
    "\n",
    "x = np.arange(len(labels))\n",
    "width = 0.4\n",
    "\n",
    "fig, ax = plt.subplots()\n",
    "rects1 = ax.bar(x - width/2, train, width, label='Training')\n",
    "rects2 = ax.bar(x + width/2, test, width, label='Test')\n",
    "\n",
    "ax.set_ylabel('Mean accuracy')\n",
    "ax.set_title('Accuracy')\n",
    "ax.set_xticks(x)\n",
    "ax.set_xticklabels(labels)\n",
    "ax.legend()\n",
    "\n",
    "\n",
    "def autolabel(rects):\n",
    "    \"\"\"Attach a text label above each bar in *rects*, displaying its height.\"\"\"\n",
    "    for rect in rects:\n",
    "        height = rect.get_height()\n",
    "        ax.annotate('{}'.format(height),\n",
    "                    xy=(rect.get_x() + rect.get_width() / 2, height),\n",
    "                    xytext=(0, 3),  # 3 points vertical offset\n",
    "                    textcoords=\"offset points\",\n",
    "                    ha='center', va='bottom')\n",
    "\n",
    "autolabel(rects1)\n",
    "autolabel(rects2)\n",
    "plt.rcParams['figure.figsize'] = [15, 10]\n",
    "plt.show()\n"
   ]
  }
 ],
 "metadata": {
  "accelerator": "GPU",
  "colab": {
   "include_colab_link": true,
   "name": "linear_feature_eval.ipynb",
   "provenance": []
  },
  "kernelspec": {
   "display_name": "PyCharm (SimCLR_Usage)",
   "language": "python",
   "name": "pycharm-ed8109b3"
  },
  "language_info": {
   "codemirror_mode": {
    "name": "ipython",
    "version": 3
   },
   "file_extension": ".py",
   "mimetype": "text/x-python",
   "name": "python",
   "nbconvert_exporter": "python",
   "pygments_lexer": "ipython3",
   "version": "3.7.7"
  },
  "pycharm": {
   "stem_cell": {
    "cell_type": "raw",
    "source": [],
    "metadata": {
     "collapsed": false
    }
   }
  }
 },
 "nbformat": 4,
 "nbformat_minor": 1
}